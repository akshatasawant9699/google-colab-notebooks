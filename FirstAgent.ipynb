{
  "nbformat": 4,
  "nbformat_minor": 0,
  "metadata": {
    "colab": {
      "provenance": []
    },
    "kernelspec": {
      "name": "python3",
      "display_name": "Python 3"
    },
    "language_info": {
      "name": "python"
    }
  },
  "cells": [
    {
      "cell_type": "code",
      "execution_count": null,
      "metadata": {
        "id": "Co2EWfQwuE36",
        "collapsed": true,
        "colab": {
          "base_uri": "https://localhost:8080/"
        },
        "outputId": "a90fc6e6-0883-4eb1-c2ac-ebb17d7e2b38"
      },
      "outputs": [
        {
          "output_type": "stream",
          "name": "stdout",
          "text": [
            "Requirement already satisfied: openai-agents in /usr/local/lib/python3.11/dist-packages (0.1.0)\n",
            "Requirement already satisfied: griffe<2,>=1.5.6 in /usr/local/lib/python3.11/dist-packages (from openai-agents) (1.7.3)\n",
            "Requirement already satisfied: mcp<2,>=1.9.4 in /usr/local/lib/python3.11/dist-packages (from openai-agents) (1.10.1)\n",
            "Requirement already satisfied: openai>=1.87.0 in /usr/local/lib/python3.11/dist-packages (from openai-agents) (1.93.0)\n",
            "Requirement already satisfied: pydantic<3,>=2.10 in /usr/local/lib/python3.11/dist-packages (from openai-agents) (2.11.7)\n",
            "Requirement already satisfied: requests<3,>=2.0 in /usr/local/lib/python3.11/dist-packages (from openai-agents) (2.32.3)\n",
            "Requirement already satisfied: types-requests<3,>=2.0 in /usr/local/lib/python3.11/dist-packages (from openai-agents) (2.32.4.20250611)\n",
            "Requirement already satisfied: typing-extensions<5,>=4.12.2 in /usr/local/lib/python3.11/dist-packages (from openai-agents) (4.14.0)\n",
            "Requirement already satisfied: colorama>=0.4 in /usr/local/lib/python3.11/dist-packages (from griffe<2,>=1.5.6->openai-agents) (0.4.6)\n",
            "Requirement already satisfied: anyio>=4.5 in /usr/local/lib/python3.11/dist-packages (from mcp<2,>=1.9.4->openai-agents) (4.9.0)\n",
            "Requirement already satisfied: httpx-sse>=0.4 in /usr/local/lib/python3.11/dist-packages (from mcp<2,>=1.9.4->openai-agents) (0.4.1)\n",
            "Requirement already satisfied: httpx>=0.27 in /usr/local/lib/python3.11/dist-packages (from mcp<2,>=1.9.4->openai-agents) (0.28.1)\n",
            "Requirement already satisfied: jsonschema>=4.20.0 in /usr/local/lib/python3.11/dist-packages (from mcp<2,>=1.9.4->openai-agents) (4.24.0)\n",
            "Requirement already satisfied: pydantic-settings>=2.5.2 in /usr/local/lib/python3.11/dist-packages (from mcp<2,>=1.9.4->openai-agents) (2.10.1)\n",
            "Requirement already satisfied: python-multipart>=0.0.9 in /usr/local/lib/python3.11/dist-packages (from mcp<2,>=1.9.4->openai-agents) (0.0.20)\n",
            "Requirement already satisfied: sse-starlette>=1.6.1 in /usr/local/lib/python3.11/dist-packages (from mcp<2,>=1.9.4->openai-agents) (2.3.6)\n",
            "Requirement already satisfied: starlette>=0.27 in /usr/local/lib/python3.11/dist-packages (from mcp<2,>=1.9.4->openai-agents) (0.46.2)\n",
            "Requirement already satisfied: uvicorn>=0.23.1 in /usr/local/lib/python3.11/dist-packages (from mcp<2,>=1.9.4->openai-agents) (0.35.0)\n",
            "Requirement already satisfied: distro<2,>=1.7.0 in /usr/local/lib/python3.11/dist-packages (from openai>=1.87.0->openai-agents) (1.9.0)\n",
            "Requirement already satisfied: jiter<1,>=0.4.0 in /usr/local/lib/python3.11/dist-packages (from openai>=1.87.0->openai-agents) (0.10.0)\n",
            "Requirement already satisfied: sniffio in /usr/local/lib/python3.11/dist-packages (from openai>=1.87.0->openai-agents) (1.3.1)\n",
            "Requirement already satisfied: tqdm>4 in /usr/local/lib/python3.11/dist-packages (from openai>=1.87.0->openai-agents) (4.67.1)\n",
            "Requirement already satisfied: annotated-types>=0.6.0 in /usr/local/lib/python3.11/dist-packages (from pydantic<3,>=2.10->openai-agents) (0.7.0)\n",
            "Requirement already satisfied: pydantic-core==2.33.2 in /usr/local/lib/python3.11/dist-packages (from pydantic<3,>=2.10->openai-agents) (2.33.2)\n",
            "Requirement already satisfied: typing-inspection>=0.4.0 in /usr/local/lib/python3.11/dist-packages (from pydantic<3,>=2.10->openai-agents) (0.4.1)\n",
            "Requirement already satisfied: charset-normalizer<4,>=2 in /usr/local/lib/python3.11/dist-packages (from requests<3,>=2.0->openai-agents) (3.4.2)\n",
            "Requirement already satisfied: idna<4,>=2.5 in /usr/local/lib/python3.11/dist-packages (from requests<3,>=2.0->openai-agents) (3.10)\n",
            "Requirement already satisfied: urllib3<3,>=1.21.1 in /usr/local/lib/python3.11/dist-packages (from requests<3,>=2.0->openai-agents) (2.4.0)\n",
            "Requirement already satisfied: certifi>=2017.4.17 in /usr/local/lib/python3.11/dist-packages (from requests<3,>=2.0->openai-agents) (2025.6.15)\n",
            "Requirement already satisfied: httpcore==1.* in /usr/local/lib/python3.11/dist-packages (from httpx>=0.27->mcp<2,>=1.9.4->openai-agents) (1.0.9)\n",
            "Requirement already satisfied: h11>=0.16 in /usr/local/lib/python3.11/dist-packages (from httpcore==1.*->httpx>=0.27->mcp<2,>=1.9.4->openai-agents) (0.16.0)\n",
            "Requirement already satisfied: attrs>=22.2.0 in /usr/local/lib/python3.11/dist-packages (from jsonschema>=4.20.0->mcp<2,>=1.9.4->openai-agents) (25.3.0)\n",
            "Requirement already satisfied: jsonschema-specifications>=2023.03.6 in /usr/local/lib/python3.11/dist-packages (from jsonschema>=4.20.0->mcp<2,>=1.9.4->openai-agents) (2025.4.1)\n",
            "Requirement already satisfied: referencing>=0.28.4 in /usr/local/lib/python3.11/dist-packages (from jsonschema>=4.20.0->mcp<2,>=1.9.4->openai-agents) (0.36.2)\n",
            "Requirement already satisfied: rpds-py>=0.7.1 in /usr/local/lib/python3.11/dist-packages (from jsonschema>=4.20.0->mcp<2,>=1.9.4->openai-agents) (0.26.0)\n",
            "Requirement already satisfied: python-dotenv>=0.21.0 in /usr/local/lib/python3.11/dist-packages (from pydantic-settings>=2.5.2->mcp<2,>=1.9.4->openai-agents) (1.1.1)\n",
            "Requirement already satisfied: click>=7.0 in /usr/local/lib/python3.11/dist-packages (from uvicorn>=0.23.1->mcp<2,>=1.9.4->openai-agents) (8.2.1)\n"
          ]
        }
      ],
      "source": [
        "!pip install openai-agents"
      ]
    },
    {
      "cell_type": "code",
      "source": [
        "import os\n",
        "from google.colab import userdata\n",
        "\n",
        "# Ensure OPENAI_API_KEY is added to secrets\n",
        "os.environ[\"OPENAI_API_KEY\"] = userdata.get(\"OPENAI_API_KEY\")"
      ],
      "metadata": {
        "id": "Kuf71dBsu6r2"
      },
      "execution_count": null,
      "outputs": []
    },
    {
      "cell_type": "code",
      "source": [
        "from agents import Agent, Runner, ModelSettings, trace, gen_trace_id\n",
        "from agents import WebSearchTool, CodeInterpreterTool"
      ],
      "metadata": {
        "id": "ZASrBoGEv64x"
      },
      "execution_count": null,
      "outputs": []
    },
    {
      "cell_type": "code",
      "source": [
        "print(\"OpenAI Agents SDK version:\", __import__('agents').__version__)"
      ],
      "metadata": {
        "id": "Lxcl6JowwMKv",
        "colab": {
          "base_uri": "https://localhost:8080/"
        },
        "outputId": "95a5f2a3-f67a-462f-cc92-253c0cbe7d88"
      },
      "execution_count": null,
      "outputs": [
        {
          "output_type": "stream",
          "name": "stdout",
          "text": [
            "OpenAI Agents SDK version: 0.1.0\n"
          ]
        }
      ]
    },
    {
      "cell_type": "code",
      "source": [
        "from pydantic import BaseModel\n",
        "# Define structured output models for clarity\n",
        "class ShoppingItem(BaseModel):\n",
        "    name: str\n",
        "    price: float\n",
        "    url: str\n",
        "\n",
        "class ShoppingList(BaseModel):\n",
        "    items: list[ShoppingItem]\n",
        "\n",
        "class TotalCostSummary(BaseModel):\n",
        "    total: float\n",
        "    item_count: int\n",
        "    details: str\n",
        "\n",
        "# Define agents\n",
        "winter_agent = Agent(\n",
        "    name=\"Winter Shopping List Agent\",\n",
        "    instructions=\"\"\"\n",
        "    You are an agent that generates a random shopping list for a complete  winter outfit.\n",
        "    Include various items like a jacket, scarf, gloves, hat, boots, etc.  For each item, provide a name, a realistic price, and a placeholder URL.  Return the list as a ShoppingList.\n",
        "    \"\"\",\n",
        "    output_type=ShoppingList\n",
        ")\n",
        "\n",
        "cost_agent = Agent(\n",
        "    name=\"Total Cost Agent\",\n",
        "    instructions=\"\"\"\n",
        "    You are a deterministic agent. Given a ShoppingList, calculate the total  cost and item count,\n",
        "    and return a TotalCostSummary with a details string in the format:  'Total for X items: $Y'.\n",
        "    \"\"\",\n",
        "    output_type=TotalCostSummary\n",
        ")\n",
        "\n",
        "# Execute sequentially (deterministic flow):\n",
        "shopping_list_result = await Runner.run(winter_agent, input=\"\")\n",
        "shopping_list = shopping_list_result.final_output\n",
        "\n",
        "cost_result = await Runner.run(cost_agent,\n",
        "                                input=shopping_list.model_dump_json())\n",
        "summary = cost_result.final_output\n",
        "\n",
        "print(\"Summary:\", summary.details)"
      ],
      "metadata": {
        "id": "RmiD9jF2w0GO",
        "colab": {
          "base_uri": "https://localhost:8080/"
        },
        "outputId": "8384e1af-76d7-4999-ed93-85d1dd834021"
      },
      "execution_count": null,
      "outputs": [
        {
          "output_type": "stream",
          "name": "stdout",
          "text": [
            "Summary: Total for 5 items: $350.00\n"
          ]
        }
      ]
    },
    {
      "cell_type": "markdown",
      "metadata": {
        "id": "ecfdc90d"
      },
      "source": [
        "Let's create some test cases for the agents. First, we'll test the `winter_agent` to see if it generates a valid `ShoppingList`."
      ]
    },
    {
      "cell_type": "code",
      "metadata": {
        "colab": {
          "base_uri": "https://localhost:8080/"
        },
        "id": "d37e731c",
        "outputId": "e96c2264-0a43-4968-ea7b-455acbe904bd"
      },
      "source": [
        "# Test case for winter_agent\n",
        "winter_agent_test_result = await Runner.run(winter_agent, input=\"\")\n",
        "winter_agent_output = winter_agent_test_result.final_output\n",
        "\n",
        "print(\"Winter Agent Output Type:\", type(winter_agent_output))\n",
        "print(\"Winter Agent Output (first 3 items):\", winter_agent_output.items[:3])"
      ],
      "execution_count": null,
      "outputs": [
        {
          "output_type": "stream",
          "name": "stdout",
          "text": [
            "Winter Agent Output Type: <class '__main__.ShoppingList'>\n",
            "Winter Agent Output (first 3 items): [ShoppingItem(name='Insulated Winter Jacket', price=120.99, url='http://example.com/insulated-winter-jacket'), ShoppingItem(name='Wool Knit Scarf', price=25.0, url='http://example.com/wool-knit-scarf'), ShoppingItem(name='Leather Winter Gloves', price=35.5, url='http://example.com/leather-winter-gloves')]\n"
          ]
        }
      ]
    },
    {
      "cell_type": "markdown",
      "metadata": {
        "id": "f1ee1c61"
      },
      "source": [
        "Now, let's test the `cost_agent` with a sample `ShoppingList` to verify the total cost calculation."
      ]
    },
    {
      "cell_type": "code",
      "metadata": {
        "colab": {
          "base_uri": "https://localhost:8080/"
        },
        "id": "5ba22597",
        "outputId": "2deb435b-d9c0-4705-d973-2942333aeae2"
      },
      "source": [
        "# Test case for cost_agent\n",
        "sample_shopping_list = ShoppingList(items=[\n",
        "    ShoppingItem(name=\"Hat\", price=20.00, url=\"placeholder\"),\n",
        "    ShoppingItem(name=\"Gloves\", price=25.00, url=\"placeholder\"),\n",
        "    ShoppingItem(name=\"Scarf\", price=30.00, url=\"placeholder\"),\n",
        "])\n",
        "\n",
        "cost_agent_test_result = await Runner.run(cost_agent,\n",
        "                                          input=sample_shopping_list.model_dump_json())\n",
        "cost_agent_output = cost_agent_test_result.final_output\n",
        "\n",
        "print(\"Cost Agent Output Type:\", type(cost_agent_output))\n",
        "print(\"Cost Agent Output:\", cost_agent_output)"
      ],
      "execution_count": null,
      "outputs": [
        {
          "output_type": "stream",
          "name": "stdout",
          "text": [
            "Cost Agent Output Type: <class '__main__.TotalCostSummary'>\n",
            "Cost Agent Output: total=75.0 item_count=3 details='Total for 3 items: $75'\n"
          ]
        }
      ]
    }
  ]
}