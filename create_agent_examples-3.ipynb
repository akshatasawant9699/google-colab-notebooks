{
  "cells": [
    {
      "cell_type": "markdown",
      "metadata": {
        "id": "z1g-Ek2U3k8V"
      },
      "source": [
        "# AgentForce SDK - Create Agent Examples\n",
        "\n",
        "This notebook demonstrates different ways to create agents using the AgentForce SDK."
      ]
    },
    {
      "cell_type": "markdown",
      "metadata": {
        "id": "Kt5PYHPB3k8h"
      },
      "source": [
        "## Prerequisites\n",
        "\n",
        "First, let's install the AgentForce SDK:"
      ]
    },
    {
      "cell_type": "code",
      "execution_count": null,
      "metadata": {
        "collapsed": true,
        "id": "9oZPzigV3k8j",
        "colab": {
          "base_uri": "https://localhost:8080/"
        },
        "outputId": "6fab2c46-d6ec-41f8-ea6c-34413a5bf617"
      },
      "outputs": [
        {
          "output_type": "stream",
          "name": "stdout",
          "text": [
            "Requirement already satisfied: agentforce-sdk in /usr/local/lib/python3.11/dist-packages (0.2.1)\n",
            "Requirement already satisfied: aiohttp>=3.8.0 in /usr/local/lib/python3.11/dist-packages (from agentforce-sdk) (3.11.15)\n",
            "Requirement already satisfied: click>=8.0.0 in /usr/local/lib/python3.11/dist-packages (from agentforce-sdk) (8.2.1)\n",
            "Requirement already satisfied: jsonschema>=4.0.0 in /usr/local/lib/python3.11/dist-packages (from agentforce-sdk) (4.24.0)\n",
            "Requirement already satisfied: openai>=1.75.0 in /usr/local/lib/python3.11/dist-packages (from agentforce-sdk) (1.93.0)\n",
            "Requirement already satisfied: pydantic-ai>=0.1.3 in /usr/local/lib/python3.11/dist-packages (from agentforce-sdk) (0.3.7)\n",
            "Requirement already satisfied: python-dotenv>=0.20.0 in /usr/local/lib/python3.11/dist-packages (from agentforce-sdk) (1.1.1)\n",
            "Requirement already satisfied: requests>=2.25.0 in /usr/local/lib/python3.11/dist-packages (from agentforce-sdk) (2.32.3)\n",
            "Requirement already satisfied: simple-salesforce>=1.12.0 in /usr/local/lib/python3.11/dist-packages (from agentforce-sdk) (1.12.6)\n",
            "Requirement already satisfied: tqdm>=4.60.0 in /usr/local/lib/python3.11/dist-packages (from agentforce-sdk) (4.67.1)\n",
            "Requirement already satisfied: aiohappyeyeballs>=2.3.0 in /usr/local/lib/python3.11/dist-packages (from aiohttp>=3.8.0->agentforce-sdk) (2.6.1)\n",
            "Requirement already satisfied: aiosignal>=1.1.2 in /usr/local/lib/python3.11/dist-packages (from aiohttp>=3.8.0->agentforce-sdk) (1.3.2)\n",
            "Requirement already satisfied: attrs>=17.3.0 in /usr/local/lib/python3.11/dist-packages (from aiohttp>=3.8.0->agentforce-sdk) (25.3.0)\n",
            "Requirement already satisfied: frozenlist>=1.1.1 in /usr/local/lib/python3.11/dist-packages (from aiohttp>=3.8.0->agentforce-sdk) (1.7.0)\n",
            "Requirement already satisfied: multidict<7.0,>=4.5 in /usr/local/lib/python3.11/dist-packages (from aiohttp>=3.8.0->agentforce-sdk) (6.6.3)\n",
            "Requirement already satisfied: propcache>=0.2.0 in /usr/local/lib/python3.11/dist-packages (from aiohttp>=3.8.0->agentforce-sdk) (0.3.2)\n",
            "Requirement already satisfied: yarl<2.0,>=1.17.0 in /usr/local/lib/python3.11/dist-packages (from aiohttp>=3.8.0->agentforce-sdk) (1.20.1)\n",
            "Requirement already satisfied: jsonschema-specifications>=2023.03.6 in /usr/local/lib/python3.11/dist-packages (from jsonschema>=4.0.0->agentforce-sdk) (2025.4.1)\n",
            "Requirement already satisfied: referencing>=0.28.4 in /usr/local/lib/python3.11/dist-packages (from jsonschema>=4.0.0->agentforce-sdk) (0.36.2)\n",
            "Requirement already satisfied: rpds-py>=0.7.1 in /usr/local/lib/python3.11/dist-packages (from jsonschema>=4.0.0->agentforce-sdk) (0.26.0)\n",
            "Requirement already satisfied: anyio<5,>=3.5.0 in /usr/local/lib/python3.11/dist-packages (from openai>=1.75.0->agentforce-sdk) (4.9.0)\n",
            "Requirement already satisfied: distro<2,>=1.7.0 in /usr/local/lib/python3.11/dist-packages (from openai>=1.75.0->agentforce-sdk) (1.9.0)\n",
            "Requirement already satisfied: httpx<1,>=0.23.0 in /usr/local/lib/python3.11/dist-packages (from openai>=1.75.0->agentforce-sdk) (0.28.1)\n",
            "Requirement already satisfied: jiter<1,>=0.4.0 in /usr/local/lib/python3.11/dist-packages (from openai>=1.75.0->agentforce-sdk) (0.10.0)\n",
            "Requirement already satisfied: pydantic<3,>=1.9.0 in /usr/local/lib/python3.11/dist-packages (from openai>=1.75.0->agentforce-sdk) (2.11.7)\n",
            "Requirement already satisfied: sniffio in /usr/local/lib/python3.11/dist-packages (from openai>=1.75.0->agentforce-sdk) (1.3.1)\n",
            "Requirement already satisfied: typing-extensions<5,>=4.11 in /usr/local/lib/python3.11/dist-packages (from openai>=1.75.0->agentforce-sdk) (4.14.0)\n",
            "Requirement already satisfied: pydantic-ai-slim==0.3.7 in /usr/local/lib/python3.11/dist-packages (from pydantic-ai-slim[a2a,anthropic,bedrock,cli,cohere,evals,google,groq,mcp,mistral,openai,vertexai]==0.3.7->pydantic-ai>=0.1.3->agentforce-sdk) (0.3.7)\n",
            "Requirement already satisfied: eval-type-backport>=0.2.0 in /usr/local/lib/python3.11/dist-packages (from pydantic-ai-slim==0.3.7->pydantic-ai-slim[a2a,anthropic,bedrock,cli,cohere,evals,google,groq,mcp,mistral,openai,vertexai]==0.3.7->pydantic-ai>=0.1.3->agentforce-sdk) (0.2.2)\n",
            "Requirement already satisfied: griffe>=1.3.2 in /usr/local/lib/python3.11/dist-packages (from pydantic-ai-slim==0.3.7->pydantic-ai-slim[a2a,anthropic,bedrock,cli,cohere,evals,google,groq,mcp,mistral,openai,vertexai]==0.3.7->pydantic-ai>=0.1.3->agentforce-sdk) (1.7.3)\n",
            "Requirement already satisfied: opentelemetry-api>=1.28.0 in /usr/local/lib/python3.11/dist-packages (from pydantic-ai-slim==0.3.7->pydantic-ai-slim[a2a,anthropic,bedrock,cli,cohere,evals,google,groq,mcp,mistral,openai,vertexai]==0.3.7->pydantic-ai>=0.1.3->agentforce-sdk) (1.34.1)\n",
            "Requirement already satisfied: pydantic-graph==0.3.7 in /usr/local/lib/python3.11/dist-packages (from pydantic-ai-slim==0.3.7->pydantic-ai-slim[a2a,anthropic,bedrock,cli,cohere,evals,google,groq,mcp,mistral,openai,vertexai]==0.3.7->pydantic-ai>=0.1.3->agentforce-sdk) (0.3.7)\n",
            "Requirement already satisfied: typing-inspection>=0.4.0 in /usr/local/lib/python3.11/dist-packages (from pydantic-ai-slim==0.3.7->pydantic-ai-slim[a2a,anthropic,bedrock,cli,cohere,evals,google,groq,mcp,mistral,openai,vertexai]==0.3.7->pydantic-ai>=0.1.3->agentforce-sdk) (0.4.1)\n",
            "Requirement already satisfied: fasta2a==0.3.7 in /usr/local/lib/python3.11/dist-packages (from pydantic-ai-slim[a2a,anthropic,bedrock,cli,cohere,evals,google,groq,mcp,mistral,openai,vertexai]==0.3.7->pydantic-ai>=0.1.3->agentforce-sdk) (0.3.7)\n",
            "Requirement already satisfied: anthropic>=0.52.0 in /usr/local/lib/python3.11/dist-packages (from pydantic-ai-slim[a2a,anthropic,bedrock,cli,cohere,evals,google,groq,mcp,mistral,openai,vertexai]==0.3.7->pydantic-ai>=0.1.3->agentforce-sdk) (0.57.1)\n",
            "Requirement already satisfied: boto3>=1.37.24 in /usr/local/lib/python3.11/dist-packages (from pydantic-ai-slim[a2a,anthropic,bedrock,cli,cohere,evals,google,groq,mcp,mistral,openai,vertexai]==0.3.7->pydantic-ai>=0.1.3->agentforce-sdk) (1.39.3)\n",
            "Requirement already satisfied: argcomplete>=3.5.0 in /usr/local/lib/python3.11/dist-packages (from pydantic-ai-slim[a2a,anthropic,bedrock,cli,cohere,evals,google,groq,mcp,mistral,openai,vertexai]==0.3.7->pydantic-ai>=0.1.3->agentforce-sdk) (3.6.2)\n",
            "Requirement already satisfied: prompt-toolkit>=3 in /usr/local/lib/python3.11/dist-packages (from pydantic-ai-slim[a2a,anthropic,bedrock,cli,cohere,evals,google,groq,mcp,mistral,openai,vertexai]==0.3.7->pydantic-ai>=0.1.3->agentforce-sdk) (3.0.51)\n",
            "Requirement already satisfied: rich>=13 in /usr/local/lib/python3.11/dist-packages (from pydantic-ai-slim[a2a,anthropic,bedrock,cli,cohere,evals,google,groq,mcp,mistral,openai,vertexai]==0.3.7->pydantic-ai>=0.1.3->agentforce-sdk) (13.9.4)\n",
            "Requirement already satisfied: cohere>=5.13.11 in /usr/local/lib/python3.11/dist-packages (from pydantic-ai-slim[a2a,anthropic,bedrock,cli,cohere,evals,google,groq,mcp,mistral,openai,vertexai]==0.3.7->pydantic-ai>=0.1.3->agentforce-sdk) (5.15.0)\n",
            "Requirement already satisfied: pydantic-evals==0.3.7 in /usr/local/lib/python3.11/dist-packages (from pydantic-ai-slim[a2a,anthropic,bedrock,cli,cohere,evals,google,groq,mcp,mistral,openai,vertexai]==0.3.7->pydantic-ai>=0.1.3->agentforce-sdk) (0.3.7)\n",
            "Requirement already satisfied: google-genai>=1.24.0 in /usr/local/lib/python3.11/dist-packages (from pydantic-ai-slim[a2a,anthropic,bedrock,cli,cohere,evals,google,groq,mcp,mistral,openai,vertexai]==0.3.7->pydantic-ai>=0.1.3->agentforce-sdk) (1.24.0)\n",
            "Requirement already satisfied: groq>=0.19.0 in /usr/local/lib/python3.11/dist-packages (from pydantic-ai-slim[a2a,anthropic,bedrock,cli,cohere,evals,google,groq,mcp,mistral,openai,vertexai]==0.3.7->pydantic-ai>=0.1.3->agentforce-sdk) (0.29.0)\n",
            "Requirement already satisfied: mcp>=1.9.4 in /usr/local/lib/python3.11/dist-packages (from pydantic-ai-slim[a2a,anthropic,bedrock,cli,cohere,evals,google,groq,mcp,mistral,openai,vertexai]==0.3.7->pydantic-ai>=0.1.3->agentforce-sdk) (1.10.1)\n",
            "Requirement already satisfied: mistralai>=1.2.5 in /usr/local/lib/python3.11/dist-packages (from pydantic-ai-slim[a2a,anthropic,bedrock,cli,cohere,evals,google,groq,mcp,mistral,openai,vertexai]==0.3.7->pydantic-ai>=0.1.3->agentforce-sdk) (1.9.1)\n",
            "Requirement already satisfied: google-auth>=2.36.0 in /usr/local/lib/python3.11/dist-packages (from pydantic-ai-slim[a2a,anthropic,bedrock,cli,cohere,evals,google,groq,mcp,mistral,openai,vertexai]==0.3.7->pydantic-ai>=0.1.3->agentforce-sdk) (2.38.0)\n",
            "Requirement already satisfied: starlette>0.29.0 in /usr/local/lib/python3.11/dist-packages (from fasta2a==0.3.7->pydantic-ai-slim[a2a,anthropic,bedrock,cli,cohere,evals,google,groq,mcp,mistral,openai,vertexai]==0.3.7->pydantic-ai>=0.1.3->agentforce-sdk) (0.46.2)\n",
            "Requirement already satisfied: logfire-api>=1.2.0 in /usr/local/lib/python3.11/dist-packages (from pydantic-evals==0.3.7->pydantic-ai-slim[a2a,anthropic,bedrock,cli,cohere,evals,google,groq,mcp,mistral,openai,vertexai]==0.3.7->pydantic-ai>=0.1.3->agentforce-sdk) (3.22.1)\n",
            "Requirement already satisfied: pyyaml>=6.0.2 in /usr/local/lib/python3.11/dist-packages (from pydantic-evals==0.3.7->pydantic-ai-slim[a2a,anthropic,bedrock,cli,cohere,evals,google,groq,mcp,mistral,openai,vertexai]==0.3.7->pydantic-ai>=0.1.3->agentforce-sdk) (6.0.2)\n",
            "Requirement already satisfied: charset-normalizer<4,>=2 in /usr/local/lib/python3.11/dist-packages (from requests>=2.25.0->agentforce-sdk) (3.4.2)\n",
            "Requirement already satisfied: idna<4,>=2.5 in /usr/local/lib/python3.11/dist-packages (from requests>=2.25.0->agentforce-sdk) (3.10)\n",
            "Requirement already satisfied: urllib3<3,>=1.21.1 in /usr/local/lib/python3.11/dist-packages (from requests>=2.25.0->agentforce-sdk) (2.4.0)\n",
            "Requirement already satisfied: certifi>=2017.4.17 in /usr/local/lib/python3.11/dist-packages (from requests>=2.25.0->agentforce-sdk) (2025.6.15)\n",
            "Requirement already satisfied: zeep in /usr/local/lib/python3.11/dist-packages (from simple-salesforce>=1.12.0->agentforce-sdk) (4.3.1)\n",
            "Requirement already satisfied: pyjwt[crypto] in /usr/local/lib/python3.11/dist-packages (from simple-salesforce>=1.12.0->agentforce-sdk) (2.10.1)\n",
            "Requirement already satisfied: more-itertools in /usr/local/lib/python3.11/dist-packages (from simple-salesforce>=1.12.0->agentforce-sdk) (10.7.0)\n",
            "Requirement already satisfied: httpcore==1.* in /usr/local/lib/python3.11/dist-packages (from httpx<1,>=0.23.0->openai>=1.75.0->agentforce-sdk) (1.0.9)\n",
            "Requirement already satisfied: h11>=0.16 in /usr/local/lib/python3.11/dist-packages (from httpcore==1.*->httpx<1,>=0.23.0->openai>=1.75.0->agentforce-sdk) (0.16.0)\n",
            "Requirement already satisfied: annotated-types>=0.6.0 in /usr/local/lib/python3.11/dist-packages (from pydantic<3,>=1.9.0->openai>=1.75.0->agentforce-sdk) (0.7.0)\n",
            "Requirement already satisfied: pydantic-core==2.33.2 in /usr/local/lib/python3.11/dist-packages (from pydantic<3,>=1.9.0->openai>=1.75.0->agentforce-sdk) (2.33.2)\n",
            "Requirement already satisfied: cryptography>=3.4.0 in /usr/local/lib/python3.11/dist-packages (from pyjwt[crypto]->simple-salesforce>=1.12.0->agentforce-sdk) (43.0.3)\n",
            "Requirement already satisfied: isodate>=0.5.4 in /usr/local/lib/python3.11/dist-packages (from zeep->simple-salesforce>=1.12.0->agentforce-sdk) (0.7.2)\n",
            "Requirement already satisfied: lxml>=4.6.0 in /usr/local/lib/python3.11/dist-packages (from zeep->simple-salesforce>=1.12.0->agentforce-sdk) (5.4.0)\n",
            "Requirement already satisfied: platformdirs>=1.4.0 in /usr/local/lib/python3.11/dist-packages (from zeep->simple-salesforce>=1.12.0->agentforce-sdk) (4.3.8)\n",
            "Requirement already satisfied: requests-toolbelt>=0.7.1 in /usr/local/lib/python3.11/dist-packages (from zeep->simple-salesforce>=1.12.0->agentforce-sdk) (1.0.0)\n",
            "Requirement already satisfied: requests-file>=1.5.1 in /usr/local/lib/python3.11/dist-packages (from zeep->simple-salesforce>=1.12.0->agentforce-sdk) (2.1.0)\n",
            "Requirement already satisfied: pytz in /usr/local/lib/python3.11/dist-packages (from zeep->simple-salesforce>=1.12.0->agentforce-sdk) (2025.2)\n",
            "Requirement already satisfied: botocore<1.40.0,>=1.39.3 in /usr/local/lib/python3.11/dist-packages (from boto3>=1.37.24->pydantic-ai-slim[a2a,anthropic,bedrock,cli,cohere,evals,google,groq,mcp,mistral,openai,vertexai]==0.3.7->pydantic-ai>=0.1.3->agentforce-sdk) (1.39.3)\n",
            "Requirement already satisfied: jmespath<2.0.0,>=0.7.1 in /usr/local/lib/python3.11/dist-packages (from boto3>=1.37.24->pydantic-ai-slim[a2a,anthropic,bedrock,cli,cohere,evals,google,groq,mcp,mistral,openai,vertexai]==0.3.7->pydantic-ai>=0.1.3->agentforce-sdk) (1.0.1)\n",
            "Requirement already satisfied: s3transfer<0.14.0,>=0.13.0 in /usr/local/lib/python3.11/dist-packages (from boto3>=1.37.24->pydantic-ai-slim[a2a,anthropic,bedrock,cli,cohere,evals,google,groq,mcp,mistral,openai,vertexai]==0.3.7->pydantic-ai>=0.1.3->agentforce-sdk) (0.13.0)\n",
            "Requirement already satisfied: fastavro<2.0.0,>=1.9.4 in /usr/local/lib/python3.11/dist-packages (from cohere>=5.13.11->pydantic-ai-slim[a2a,anthropic,bedrock,cli,cohere,evals,google,groq,mcp,mistral,openai,vertexai]==0.3.7->pydantic-ai>=0.1.3->agentforce-sdk) (1.11.1)\n",
            "Requirement already satisfied: httpx-sse==0.4.0 in /usr/local/lib/python3.11/dist-packages (from cohere>=5.13.11->pydantic-ai-slim[a2a,anthropic,bedrock,cli,cohere,evals,google,groq,mcp,mistral,openai,vertexai]==0.3.7->pydantic-ai>=0.1.3->agentforce-sdk) (0.4.0)\n",
            "Requirement already satisfied: tokenizers<1,>=0.15 in /usr/local/lib/python3.11/dist-packages (from cohere>=5.13.11->pydantic-ai-slim[a2a,anthropic,bedrock,cli,cohere,evals,google,groq,mcp,mistral,openai,vertexai]==0.3.7->pydantic-ai>=0.1.3->agentforce-sdk) (0.21.2)\n",
            "Requirement already satisfied: types-requests<3.0.0,>=2.0.0 in /usr/local/lib/python3.11/dist-packages (from cohere>=5.13.11->pydantic-ai-slim[a2a,anthropic,bedrock,cli,cohere,evals,google,groq,mcp,mistral,openai,vertexai]==0.3.7->pydantic-ai>=0.1.3->agentforce-sdk) (2.32.4.20250611)\n",
            "Requirement already satisfied: cffi>=1.12 in /usr/local/lib/python3.11/dist-packages (from cryptography>=3.4.0->pyjwt[crypto]->simple-salesforce>=1.12.0->agentforce-sdk) (1.17.1)\n",
            "Requirement already satisfied: cachetools<6.0,>=2.0.0 in /usr/local/lib/python3.11/dist-packages (from google-auth>=2.36.0->pydantic-ai-slim[a2a,anthropic,bedrock,cli,cohere,evals,google,groq,mcp,mistral,openai,vertexai]==0.3.7->pydantic-ai>=0.1.3->agentforce-sdk) (5.5.2)\n",
            "Requirement already satisfied: pyasn1-modules>=0.2.1 in /usr/local/lib/python3.11/dist-packages (from google-auth>=2.36.0->pydantic-ai-slim[a2a,anthropic,bedrock,cli,cohere,evals,google,groq,mcp,mistral,openai,vertexai]==0.3.7->pydantic-ai>=0.1.3->agentforce-sdk) (0.4.2)\n",
            "Requirement already satisfied: rsa<5,>=3.1.4 in /usr/local/lib/python3.11/dist-packages (from google-auth>=2.36.0->pydantic-ai-slim[a2a,anthropic,bedrock,cli,cohere,evals,google,groq,mcp,mistral,openai,vertexai]==0.3.7->pydantic-ai>=0.1.3->agentforce-sdk) (4.9.1)\n",
            "Requirement already satisfied: tenacity<9.0.0,>=8.2.3 in /usr/local/lib/python3.11/dist-packages (from google-genai>=1.24.0->pydantic-ai-slim[a2a,anthropic,bedrock,cli,cohere,evals,google,groq,mcp,mistral,openai,vertexai]==0.3.7->pydantic-ai>=0.1.3->agentforce-sdk) (8.5.0)\n",
            "Requirement already satisfied: websockets<15.1.0,>=13.0.0 in /usr/local/lib/python3.11/dist-packages (from google-genai>=1.24.0->pydantic-ai-slim[a2a,anthropic,bedrock,cli,cohere,evals,google,groq,mcp,mistral,openai,vertexai]==0.3.7->pydantic-ai>=0.1.3->agentforce-sdk) (15.0.1)\n",
            "Requirement already satisfied: colorama>=0.4 in /usr/local/lib/python3.11/dist-packages (from griffe>=1.3.2->pydantic-ai-slim==0.3.7->pydantic-ai-slim[a2a,anthropic,bedrock,cli,cohere,evals,google,groq,mcp,mistral,openai,vertexai]==0.3.7->pydantic-ai>=0.1.3->agentforce-sdk) (0.4.6)\n",
            "Requirement already satisfied: pydantic-settings>=2.5.2 in /usr/local/lib/python3.11/dist-packages (from mcp>=1.9.4->pydantic-ai-slim[a2a,anthropic,bedrock,cli,cohere,evals,google,groq,mcp,mistral,openai,vertexai]==0.3.7->pydantic-ai>=0.1.3->agentforce-sdk) (2.10.1)\n",
            "Requirement already satisfied: python-multipart>=0.0.9 in /usr/local/lib/python3.11/dist-packages (from mcp>=1.9.4->pydantic-ai-slim[a2a,anthropic,bedrock,cli,cohere,evals,google,groq,mcp,mistral,openai,vertexai]==0.3.7->pydantic-ai>=0.1.3->agentforce-sdk) (0.0.20)\n",
            "Requirement already satisfied: sse-starlette>=1.6.1 in /usr/local/lib/python3.11/dist-packages (from mcp>=1.9.4->pydantic-ai-slim[a2a,anthropic,bedrock,cli,cohere,evals,google,groq,mcp,mistral,openai,vertexai]==0.3.7->pydantic-ai>=0.1.3->agentforce-sdk) (2.4.1)\n",
            "Requirement already satisfied: uvicorn>=0.23.1 in /usr/local/lib/python3.11/dist-packages (from mcp>=1.9.4->pydantic-ai-slim[a2a,anthropic,bedrock,cli,cohere,evals,google,groq,mcp,mistral,openai,vertexai]==0.3.7->pydantic-ai>=0.1.3->agentforce-sdk) (0.35.0)\n",
            "Requirement already satisfied: python-dateutil>=2.8.2 in /usr/local/lib/python3.11/dist-packages (from mistralai>=1.2.5->pydantic-ai-slim[a2a,anthropic,bedrock,cli,cohere,evals,google,groq,mcp,mistral,openai,vertexai]==0.3.7->pydantic-ai>=0.1.3->agentforce-sdk) (2.9.0.post0)\n",
            "Requirement already satisfied: importlib-metadata<8.8.0,>=6.0 in /usr/local/lib/python3.11/dist-packages (from opentelemetry-api>=1.28.0->pydantic-ai-slim==0.3.7->pydantic-ai-slim[a2a,anthropic,bedrock,cli,cohere,evals,google,groq,mcp,mistral,openai,vertexai]==0.3.7->pydantic-ai>=0.1.3->agentforce-sdk) (8.7.0)\n",
            "Requirement already satisfied: wcwidth in /usr/local/lib/python3.11/dist-packages (from prompt-toolkit>=3->pydantic-ai-slim[a2a,anthropic,bedrock,cli,cohere,evals,google,groq,mcp,mistral,openai,vertexai]==0.3.7->pydantic-ai>=0.1.3->agentforce-sdk) (0.2.13)\n",
            "Requirement already satisfied: markdown-it-py>=2.2.0 in /usr/local/lib/python3.11/dist-packages (from rich>=13->pydantic-ai-slim[a2a,anthropic,bedrock,cli,cohere,evals,google,groq,mcp,mistral,openai,vertexai]==0.3.7->pydantic-ai>=0.1.3->agentforce-sdk) (3.0.0)\n",
            "Requirement already satisfied: pygments<3.0.0,>=2.13.0 in /usr/local/lib/python3.11/dist-packages (from rich>=13->pydantic-ai-slim[a2a,anthropic,bedrock,cli,cohere,evals,google,groq,mcp,mistral,openai,vertexai]==0.3.7->pydantic-ai>=0.1.3->agentforce-sdk) (2.19.2)\n",
            "Requirement already satisfied: pycparser in /usr/local/lib/python3.11/dist-packages (from cffi>=1.12->cryptography>=3.4.0->pyjwt[crypto]->simple-salesforce>=1.12.0->agentforce-sdk) (2.22)\n",
            "Requirement already satisfied: zipp>=3.20 in /usr/local/lib/python3.11/dist-packages (from importlib-metadata<8.8.0,>=6.0->opentelemetry-api>=1.28.0->pydantic-ai-slim==0.3.7->pydantic-ai-slim[a2a,anthropic,bedrock,cli,cohere,evals,google,groq,mcp,mistral,openai,vertexai]==0.3.7->pydantic-ai>=0.1.3->agentforce-sdk) (3.23.0)\n",
            "Requirement already satisfied: mdurl~=0.1 in /usr/local/lib/python3.11/dist-packages (from markdown-it-py>=2.2.0->rich>=13->pydantic-ai-slim[a2a,anthropic,bedrock,cli,cohere,evals,google,groq,mcp,mistral,openai,vertexai]==0.3.7->pydantic-ai>=0.1.3->agentforce-sdk) (0.1.2)\n",
            "Requirement already satisfied: pyasn1<0.7.0,>=0.6.1 in /usr/local/lib/python3.11/dist-packages (from pyasn1-modules>=0.2.1->google-auth>=2.36.0->pydantic-ai-slim[a2a,anthropic,bedrock,cli,cohere,evals,google,groq,mcp,mistral,openai,vertexai]==0.3.7->pydantic-ai>=0.1.3->agentforce-sdk) (0.6.1)\n",
            "Requirement already satisfied: six>=1.5 in /usr/local/lib/python3.11/dist-packages (from python-dateutil>=2.8.2->mistralai>=1.2.5->pydantic-ai-slim[a2a,anthropic,bedrock,cli,cohere,evals,google,groq,mcp,mistral,openai,vertexai]==0.3.7->pydantic-ai>=0.1.3->agentforce-sdk) (1.17.0)\n",
            "Requirement already satisfied: huggingface-hub<1.0,>=0.16.4 in /usr/local/lib/python3.11/dist-packages (from tokenizers<1,>=0.15->cohere>=5.13.11->pydantic-ai-slim[a2a,anthropic,bedrock,cli,cohere,evals,google,groq,mcp,mistral,openai,vertexai]==0.3.7->pydantic-ai>=0.1.3->agentforce-sdk) (0.33.1)\n",
            "Requirement already satisfied: filelock in /usr/local/lib/python3.11/dist-packages (from huggingface-hub<1.0,>=0.16.4->tokenizers<1,>=0.15->cohere>=5.13.11->pydantic-ai-slim[a2a,anthropic,bedrock,cli,cohere,evals,google,groq,mcp,mistral,openai,vertexai]==0.3.7->pydantic-ai>=0.1.3->agentforce-sdk) (3.18.0)\n",
            "Requirement already satisfied: fsspec>=2023.5.0 in /usr/local/lib/python3.11/dist-packages (from huggingface-hub<1.0,>=0.16.4->tokenizers<1,>=0.15->cohere>=5.13.11->pydantic-ai-slim[a2a,anthropic,bedrock,cli,cohere,evals,google,groq,mcp,mistral,openai,vertexai]==0.3.7->pydantic-ai>=0.1.3->agentforce-sdk) (2025.3.2)\n",
            "Requirement already satisfied: packaging>=20.9 in /usr/local/lib/python3.11/dist-packages (from huggingface-hub<1.0,>=0.16.4->tokenizers<1,>=0.15->cohere>=5.13.11->pydantic-ai-slim[a2a,anthropic,bedrock,cli,cohere,evals,google,groq,mcp,mistral,openai,vertexai]==0.3.7->pydantic-ai>=0.1.3->agentforce-sdk) (24.2)\n",
            "Requirement already satisfied: hf-xet<2.0.0,>=1.1.2 in /usr/local/lib/python3.11/dist-packages (from huggingface-hub<1.0,>=0.16.4->tokenizers<1,>=0.15->cohere>=5.13.11->pydantic-ai-slim[a2a,anthropic,bedrock,cli,cohere,evals,google,groq,mcp,mistral,openai,vertexai]==0.3.7->pydantic-ai>=0.1.3->agentforce-sdk) (1.1.5)\n"
          ]
        }
      ],
      "source": [
        "# Install the latest version of AgentForce SDK\n",
        "!pip install agentforce-sdk"
      ]
    },
    {
      "cell_type": "markdown",
      "metadata": {
        "id": "ividUvwS3k8m"
      },
      "source": [
        "## Setup\n",
        "\n",
        "Let's set up our credentials for AgentForce:"
      ]
    },
    {
      "cell_type": "code",
      "execution_count": null,
      "metadata": {
        "id": "R1hHQdDn3k8n",
        "collapsed": true,
        "colab": {
          "base_uri": "https://localhost:8080/"
        },
        "outputId": "e4db21b3-043f-4218-e8c1-87719610e786"
      },
      "outputs": [
        {
          "output_type": "stream",
          "name": "stderr",
          "text": [
            "/tmp/ipython-input-2-478862090.py:6: DeprecationWarning: Importing Input from agent_sdk.models.input is deprecated. Please import from agent_sdk.models.action or agent_sdk.models instead.\n",
            "  from agent_sdk.models.input import Input\n",
            "/tmp/ipython-input-2-478862090.py:7: DeprecationWarning: Importing Output from agent_sdk.models.output is deprecated. Please import from agent_sdk.models.action or agent_sdk.models instead.\n",
            "  from agent_sdk.models.output import Output\n",
            "INFO:agent_sdk.core.agentforce:Initializing Agentforce SDK\n",
            "INFO:agent_sdk.core.agentforce:Running in development environment\n"
          ]
        }
      ],
      "source": [
        "import os\n",
        "from agent_sdk import Agentforce, AgentUtils\n",
        "from agent_sdk.models.agent import Agent\n",
        "from agent_sdk.models.topic import Topic\n",
        "from agent_sdk.models.action import Action\n",
        "from agent_sdk.models.input import Input\n",
        "from agent_sdk.models.output import Output\n",
        "from agent_sdk.models.system_message import SystemMessage\n",
        "from agent_sdk.models.variable import Variable\n",
        "from agent_sdk.core.auth import BasicAuth\n",
        "from google.colab import userdata\n",
        "\n",
        "# Replace with your Salesforce credentials\n",
        "username = userdata.get(\"SF_USERNAME\")\n",
        "password = userdata.get(\"SF_PASSWORD\")\n",
        "\n",
        "auth = BasicAuth(username=username, password=password)\n",
        "\n",
        "# Initialize the AgentForce client\n",
        "agentforce = Agentforce(auth=auth)"
      ]
    },
    {
      "cell_type": "markdown",
      "metadata": {
        "id": "TO5F5o5-3k8q"
      },
      "source": [
        "## Method 1: Create Agent from JSON File\n",
        "\n",
        "This is the simplest way to create an agent, by using a pre-defined JSON file."
      ]
    },
    {
      "cell_type": "code",
      "execution_count": null,
      "metadata": {
        "id": "f0yfZQpz3k8s"
      },
      "outputs": [],
      "source": [
        "# Path to JSON file\n",
        "json_file_path = \"/content/input.json\"\n",
        "\n",
        "# Create the agent from JSON file\n",
        "agent = AgentUtils.create_agent_from_file(json_file_path)\n",
        "\n",
        "# View the agent configuration\n",
        "print(f\"Agent Name: {agent.name}\")\n",
        "print(f\"Description: {agent.description}\")\n",
        "print(f\"Company: {agent.company_name}\")\n",
        "print(f\"Topics: {len(agent.topics)}\")\n",
        "\n",
        "# To deploy the agent:\n",
        "result = agentforce.create(agent)\n",
        "print(f\"Agent created successfully\")\n",
        "\n",
        "# To deploy the agent:\n",
        "result = agentforce.create(agent)\n",
        "print(f\"Agent created successfully\")"
      ]
    },
    {
      "cell_type": "markdown",
      "metadata": {
        "id": "ivS50aii3k8t"
      },
      "source": [
        "## Method 2: Create Agent from Directory Structure\n",
        "\n",
        "This method uses a modular directory structure where each component is defined in a separate file."
      ]
    },
    {
      "cell_type": "code",
      "execution_count": null,
      "metadata": {
        "id": "UcBWO_fP3k8u"
      },
      "outputs": [],
      "source": [
        "# Path to directory structure\n",
        "directory_path = \"../assets/chained_agent_dir\"\n",
        "agent_name = \"order_management_agent\"\n",
        "\n",
        "# Create the agent from directory structure\n",
        "agent = AgentUtils.create_agent_from_directory_structure(directory_path, agent_name)\n",
        "\n",
        "# View the agent configuration\n",
        "print(f\"Agent Name: {agent.name}\")\n",
        "print(f\"Description: {agent.description}\")\n",
        "print(f\"Topics: {len(agent.topics)}\")\n",
        "\n",
        "# Display topic information\n",
        "for i, topic in enumerate(agent.topics):\n",
        "    print(f\"\\nTopic {i+1}: {topic.name}\")\n",
        "    print(f\"Description: {topic.description}\")\n",
        "    print(f\"Actions: {len(topic.actions) if topic.actions else 0}\")\n",
        "\n",
        "    if topic.actions:\n",
        "        for j, action in enumerate(topic.actions):\n",
        "            print(f\"  Action {j+1}: {action.name}\")\n",
        "\n",
        "# To deploy the agent:\n",
        "# result = agentforce.create(agent)\n",
        "# print(f\"Agent created successfully\")"
      ]
    },
    {
      "cell_type": "markdown",
      "metadata": {
        "id": "0o723Fzb3k8v"
      },
      "source": [
        "## Method 3: Create Agent Programmatically\n",
        "\n",
        "This method demonstrates how to create an agent by constructing it programmatically with objects."
      ]
    },
    {
      "cell_type": "code",
      "execution_count": null,
      "metadata": {
        "id": "IU8nTofg3k8w",
        "colab": {
          "base_uri": "https://localhost:8080/"
        },
        "outputId": "da241abf-bf97-4219-8565-295369d1f556"
      },
      "outputs": [
        {
          "output_type": "stream",
          "name": "stderr",
          "text": [
            "INFO:agent_sdk.core.agentforce:Deploying agent: ProgrammaticAgent\n",
            "INFO:agent_sdk.core.agentforce:Generating metadata files...\n",
            "WARNING:agent_sdk.core.deploy_tools.generate_metadata:Function 'findOrder' missing 'invocation_target' or 'invocationTarget'. Defaulting to 'ProgrammaticAgent_LLMMock'. Specify 'invocationTarget' in your agent definition for Apex functions.\n"
          ]
        },
        {
          "output_type": "stream",
          "name": "stdout",
          "text": [
            "Agent Name: ProgrammaticAgent\n",
            "Description: An agent created programmatically for order management\n",
            "Topics: 1\n"
          ]
        },
        {
          "output_type": "stream",
          "name": "stderr",
          "text": [
            "INFO:agent_sdk.core.agentforce:Metadata generation completed successfully\n",
            "INFO:agent_sdk.core.agentforce:Creating deployment zip file...\n",
            "INFO:agent_sdk.core.agentforce:Deployment zip file created successfully\n",
            "INFO:agent_sdk.core.agentforce:Initiating deployment to Salesforce...\n",
            "INFO:agent_sdk.core.deploy_tools.deploy_zipfile:No BotVersion found for Bot with DeveloperName 'ProgrammaticAgent'\n",
            "INFO:agent_sdk.core.deploy_tools.deploy_zipfile:No Planner Definition Found with 'ProgrammaticAgent_v1'\n",
            "INFO:agent_sdk.core.deploy_tools.deploy_zipfile:No in-progress deployments found.\n",
            "INFO:agent_sdk.core.deploy_tools.deploy_zipfile:Deploying agent ProgrammaticAgent to Salesforce\n",
            "INFO:agent_sdk.core.deploy_tools.deploy_zipfile:Deployment started with ID: 0AfHs00002xaoBeKAI\n",
            "INFO:agent_sdk.core.deploy_tools.deploy_zipfile:Checking deployment status for ID: 0AfHs00002xaoBeKAI?includeDetails=true\n",
            "INFO:agent_sdk.core.deploy_tools.deploy_zipfile:Status check attempt 1 of 30\n",
            "INFO:agent_sdk.core.deploy_tools.deploy_zipfile:Current deployment status: InProgress\n",
            "INFO:agent_sdk.core.deploy_tools.deploy_zipfile:Deployment still in progress. Retrying in 5 seconds...\n",
            "INFO:agent_sdk.core.deploy_tools.deploy_zipfile:Status check attempt 2 of 30\n",
            "INFO:agent_sdk.core.deploy_tools.deploy_zipfile:Current deployment status: InProgress\n",
            "INFO:agent_sdk.core.deploy_tools.deploy_zipfile:Deployment still in progress. Retrying in 7.5 seconds...\n",
            "INFO:agent_sdk.core.deploy_tools.deploy_zipfile:Status check attempt 3 of 30\n",
            "INFO:agent_sdk.core.deploy_tools.deploy_zipfile:Current deployment status: Succeeded\n",
            "INFO:agent_sdk.core.deploy_tools.deploy_zipfile:Deployment request initiated with ID: 0AfHs00002xaoBeKAI\n",
            "INFO:agent_sdk.core.deploy_tools.deploy_zipfile:Checking deployment status for ID: 0AfHs00002xaoBeKAI?includeDetails=true\n",
            "INFO:agent_sdk.core.deploy_tools.deploy_zipfile:Status check attempt 1 of 30\n",
            "INFO:agent_sdk.core.deploy_tools.deploy_zipfile:Current deployment status: Succeeded\n",
            "INFO:agent_sdk.core.deploy_tools.deploy_zipfile:Bot Version status updated to 'ACTIVE' successfully.\n",
            "INFO:agent_sdk.core.deploy_tools.deploy_zipfile:{'isActivated': True, 'messages': [], 'success': True}\n",
            "INFO:agent_sdk.core.agentforce:Deployment started successfully\n"
          ]
        },
        {
          "output_type": "stream",
          "name": "stdout",
          "text": [
            "Agent created successfully\n"
          ]
        }
      ],
      "source": [
        "# Create an action with inputs and outputs\n",
        "action = Action(\n",
        "    name=\"findOrder\",\n",
        "    description=\"Find order details using an order ID\",\n",
        "    inputs=[\n",
        "        Input(\n",
        "            name=\"orderID\",\n",
        "            description=\"Order identification number\",\n",
        "            data_type=\"string\",\n",
        "        )\n",
        "    ],\n",
        "    outputs=[\n",
        "        Output(\n",
        "            name=\"orderDetails\", description=\"Details of the order\", data_type=\"object\"\n",
        "        )\n",
        "    ],\n",
        ")\n",
        "\n",
        "# Create a topic with the action\n",
        "topic = Topic(\n",
        "    name=\"Order Management\",\n",
        "    description=\"Handles all user requests related to finding and managing orders\",\n",
        "    scope=\"public\",\n",
        "    instructions=[\n",
        "        \"If a user cannot find their order, attempt to locate it using the order ID\",\n",
        "        \"If a user wants to check the status of their order, retrieve the order details\",\n",
        "    ],\n",
        "    actions=[action],\n",
        ")\n",
        "\n",
        "# Create the agent with the topic\n",
        "agent = Agent(\n",
        "    name=\"ProgrammaticAgent\",\n",
        "    description=\"An agent created programmatically for order management\",\n",
        "    agent_type=\"External\",\n",
        "    agent_template_type=\"EinsteinServiceAgent\",\n",
        "    company_name=\"Example Corp\",\n",
        "    sample_utterances=[\"What's the status of my order?\", \"I need to find my order\"],\n",
        "    system_messages=[\n",
        "        SystemMessage(message=\"Welcome to Order Management!\", msg_type=\"welcome\"),\n",
        "        SystemMessage(message=\"I'm sorry, I encountered an error.\", msg_type=\"error\"),\n",
        "    ],\n",
        "    variables=[Variable(name=\"apiKey\", data_type=\"Text\", var_type=\"conversation\", visibility=\"Internal\", developer_name=\"apiKey\", label=\"API Key\")],\n",
        "    topics=[topic],\n",
        ")\n",
        "\n",
        "# View the agent configuration\n",
        "print(f\"Agent Name: {agent.name}\")\n",
        "print(f\"Description: {agent.description}\")\n",
        "print(f\"Topics: {len(agent.topics)}\")\n",
        "\n",
        "# To deploy the agent:\n",
        "result = agentforce.create(agent)\n",
        "print(f\"Agent created successfully\")"
      ]
    },
    {
      "cell_type": "markdown",
      "metadata": {
        "id": "d1Tcu-9r3k8x"
      },
      "source": [
        "## Method 4: Create & Export Agent Directory Structure\n",
        "\n",
        "This method demonstrates how to create an agent programmatically and then export it to a directory structure."
      ]
    },
    {
      "cell_type": "code",
      "execution_count": null,
      "metadata": {
        "id": "w9wSIy2b3k8y",
        "collapsed": true
      },
      "outputs": [],
      "source": [
        "# We'll use the same agent we created programmatically above\n",
        "export_dir = \"/content/exported_agent\"\n",
        "\n",
        "# Create the directory structure\n",
        "AgentUtils.create_agent_directory_structure(export_dir, agent)\n",
        "\n",
        "print(f\"Agent exported to directory: {export_dir}\")\n",
        "\n",
        "# You can then read it back\n",
        "# reimported_agent = AgentUtils.create_agent_from_directory_structure(export_dir, \"ProgrammaticAgent\")\n",
        "# print(f\"Re-imported agent name: {reimported_agent.name}\")"
      ]
    },
    {
      "cell_type": "code",
      "source": [
        "from google.colab import drive\n",
        "drive.mount('/content/drive')"
      ],
      "metadata": {
        "id": "kGswXh06wClh"
      },
      "execution_count": null,
      "outputs": []
    },
    {
      "cell_type": "markdown",
      "metadata": {
        "id": "tfQRKLLC3k8y"
      },
      "source": [
        "## Method 5: Create Agent with Dependent Metadata\n",
        "\n",
        "This method demonstrates how to create an agent that uses  additional dependent metadata (like Apex classes, permission sets, and custom objects) that Agent depends on. The example shows how to create an order management agent using a dependent Apex class action and a permission set."
      ]
    },
    {
      "cell_type": "code",
      "execution_count": null,
      "metadata": {
        "id": "E5E0CODe3k8z"
      },
      "outputs": [],
      "source": [
        "from agent_sdk.models.action import Action, Input, Output\n",
        "from agent_sdk.models.topic import Topic\n",
        "from agent_sdk.models.system_message import SystemMessage\n",
        "\n",
        "def create_order_management_topic() -> Topic:\n",
        "    \"\"\"Create the Order Management topic with its actions.\"\"\"\n",
        "    topic = Topic(\n",
        "        name=\"Order Management\",\n",
        "        description=\"Handle order-related queries using custom Apex classes\",\n",
        "        scope=\"Handle order-related queries and actions\",\n",
        "    )\n",
        "\n",
        "    topic.instructions = [\n",
        "        \"Always ask for the customer Id and Order Id before answering query about the order status\",\n",
        "        \"If a user requests the status of an order, provide a detailed update on the order's current status, including shipping status by using the GetOrderInfo action.\",\n",
        "        \"When the user provides the Customer Id and Order Id use and call GetOrderInfo action and display the results from the action in user friendly readable format\",\n",
        "        \"If the user does not provide Customer Id and Order Id, ask them to provide one.\"\n",
        "    ]\n",
        "\n",
        "    # Create action that will use custom Apex class\n",
        "    get_order_info_action = Action(\n",
        "        name=\"GetOrderInfo\",\n",
        "        invocation_target=\"OrderManagementService\",\n",
        "        invocation_target_type=\"apex\",\n",
        "        description=\"Get order information using custom Apex class\",\n",
        "        inputs=[\n",
        "            Input(\n",
        "                name=\"orderId\",\n",
        "                description=\"ID of the order to check\",\n",
        "                data_type=\"String\",\n",
        "                required=True,\n",
        "            ),\n",
        "            Input(\n",
        "                name=\"customerId\",\n",
        "                description=\"ID of the customer\",\n",
        "                data_type=\"String\",\n",
        "                required=True,\n",
        "            )\n",
        "        ],\n",
        "        outputs=[\n",
        "            Output(\n",
        "                name=\"status\",\n",
        "                description=\"Status of the order info retrieval\",\n",
        "                data_type=\"String\",\n",
        "                required=True,\n",
        "            ),\n",
        "            Output(\n",
        "                name=\"orderDetails\",\n",
        "                description=\"Details of the order\",\n",
        "                data_type=\"String\",\n",
        "                required=True,\n",
        "            )\n",
        "        ],\n",
        "        example_output={\"status\": \"success\", \"order_details\": \"Order #12345: 2 items, Status: Processing\"}\n",
        "    )\n",
        "\n",
        "    topic.actions = [get_order_info_action]\n",
        "    return topic\n",
        "\n",
        "# Create the agent with dependent metadata\n",
        "agent = Agent(\n",
        "    name=\"Order Management\",\n",
        "    description=\"An agent that uses custom Apex classes to manage orders\",\n",
        "    agent_type=\"External\",\n",
        "    company_name=\"Salesforce\",\n",
        ")\n",
        "\n",
        "# Set sample utterances\n",
        "agent.sample_utterances = [\n",
        "    \"What's the status of my order?\",\n",
        "    \"Can you check order #12345?\",\n",
        "    \"Show me my order details\",\n",
        "    \"Get information about my recent order\",\n",
        "]\n",
        "\n",
        "# Set system messages\n",
        "agent.system_messages = [\n",
        "    SystemMessage(\n",
        "        message=\"You are an order management assistant.\",\n",
        "        msg_type=\"system\"\n",
        "    ),\n",
        "    SystemMessage(\n",
        "        message=\"Always verify order IDs before retrieving information.\",\n",
        "        msg_type=\"system\"\n",
        "    ),\n",
        "]\n",
        "\n",
        "# Set topics\n",
        "agent.topics = [create_order_management_topic()]\n",
        "\n",
        "# Specify the path to dependent metadata directory\n",
        "metadata_dir = \"https://drive.google.com/drive/folders/1vYi5Xpw8dg5xMseUrFxs6woHAdTXQjWd?usp=sharing\"\n",
        "\n",
        "# Create agent with dependent metadata\n",
        "result = agentforce.create(agent, dependent_metadata_dir=metadata_dir)\n",
        "\n",
        "print(f\"Agent Name: {agent.name}\")\n",
        "print(f\"Description: {agent.description}\")\n",
        "print(f\"Topics: {len(agent.topics)}\")\n",
        "print(f\"Deployment Status: {result.get('deployResult', {}).get('status')}\")\n",
        "print(f\"Deployment ID: {result.get('id', 'N/A')}\")"
      ]
    },
    {
      "cell_type": "markdown",
      "metadata": {
        "id": "NO2js9-s3k81"
      },
      "source": [
        "### Understanding Dependent Metadata\n",
        "\n",
        "The dependent metadata feature allows you to provide your own custom Salesforce metadata (Apex classes, flows, objects, etc.) instead of using the default template classes. In this example:\n",
        "\n",
        "1. We created an agent that uses a custom Apex class (`OrderManagementService`) for order management\n",
        "2. The custom metadata is located in the `dependent_metadata_dir` directory\n",
        "3. The metadata directory must contain:\n",
        "   - `package.xml` - Required metadata package definition\n",
        "   - Custom Apex classes with proper annotations\n",
        "   - Any other required Salesforce metadata\n",
        "\n",
        "When deploying the agent, the SDK will:\n",
        "1. Validate the dependent metadata directory\n",
        "2. Include the custom metadata in the deployment package\n",
        "3. Deploy both the agent configuration and custom metadata to Salesforce"
      ]
    }
  ],
  "metadata": {
    "kernelspec": {
      "display_name": ".venv",
      "language": "python",
      "name": "python3"
    },
    "language_info": {
      "codemirror_mode": {
        "name": "ipython",
        "version": 3
      },
      "file_extension": ".py",
      "mimetype": "text/x-python",
      "name": "python",
      "nbconvert_exporter": "python",
      "pygments_lexer": "ipython3",
      "version": "3.12.1"
    },
    "colab": {
      "provenance": []
    }
  },
  "nbformat": 4,
  "nbformat_minor": 0
}